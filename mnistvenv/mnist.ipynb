{
  "cells": [
    {
      "cell_type": "code",
      "execution_count": null,
      "metadata": {
        "colab": {
          "base_uri": "https://localhost:8080/",
          "height": 1000
        },
        "id": "rsmqFD7fHdc-",
        "outputId": "f564a783-40d9-4d7e-ff96-0f928eb1a7cf"
      },
      "outputs": [
        {
          "name": "stdout",
          "output_type": "stream",
          "text": [
            "(784, 60000)\n",
            "(10, 60000)\n"
          ]
        }
      ],
      "source": [
        "import numpy as np\n",
        "import pandas as pd\n",
        "import matplotlib.pyplot as plt\n",
        "import h5py\n",
        "import struct\n",
        "from tensorflow.keras.utils import to_categorical\n",
        "\n",
        "\n",
        "\n",
        "def load_images(filename):\n",
        "    with open(filename, 'rb') as f:\n",
        "        magic, num, rows, cols = struct.unpack('>IIII', f.read(16))\n",
        "        data = np.frombuffer(f.read(), dtype=np.uint8)\n",
        "        data = data.reshape(num, rows * cols)\n",
        "        return data / 255.0  # normalize to [0, 1]\n",
        "\n",
        "def load_labels(filename):\n",
        "    with open(filename, 'rb') as f:\n",
        "        magic, num = struct.unpack('>II', f.read(8))\n",
        "        labels = np.frombuffer(f.read(), dtype=np.uint8)\n",
        "        return labels\n",
        "\n",
        "X_train = load_images('C:\\\\Users\\\\user\\\\Desktop\\\\CatVNONcat\\\\train-images.idx3-ubyte')\n",
        "y_train = load_labels('C:\\\\Users\\\\user\\\\Desktop\\\\CatVNONcat\\\\train-labels.idx1-ubyte')\n",
        "X_test = load_images('C:\\\\Users\\\\user\\\\Desktop\\\\CatVNONcat\\\\t10k-images.idx3-ubyte')\n",
        "y_test = load_labels('C:\\\\Users\\\\user\\\\Desktop\\\\CatVNONcat\\\\t10k-labels.idx1-ubyte')\n",
        "\n",
        "y_train = to_categorical(y_train, 10).T\n",
        "\n",
        "y_test = to_categorical(y_test, 10).T\n",
        "\n",
        "X_train = X_train.T  # shape becomes (784, 60000)\n",
        "X_test = X_test.T    # shape becomes (784, 10000)\n",
        "\n",
        "print(X_train.shape)  # (784, 60000)\n",
        "print(y_train.shape)  # (10, 60000)\n",
        "\n",
        "\n",
        "\n"
      ]
    },
    {
      "cell_type": "code",
      "execution_count": null,
      "metadata": {
        "colab": {
          "base_uri": "https://localhost:8080/"
        },
        "id": "6n_7GNkFKxoe",
        "outputId": "8dd3cc22-4368-459c-e7f3-9d47332a165f"
      },
      "outputs": [
        {
          "name": "stdout",
          "output_type": "stream",
          "text": [
            "Cost after iteration 0 : 2.336117340762173\n",
            "Cost after iteration 100 : 0.8702994450202058\n",
            "Cost after iteration 200 : 0.5467309776079899\n",
            "Cost after iteration 300 : 0.44293005292122833\n",
            "Cost after iteration 400 : 0.3907053760177144\n",
            "Cost after iteration 500 : 0.3580933888005394\n",
            "Cost after iteration 600 : 0.3349878576471249\n",
            "Cost after iteration 700 : 0.31722374217411614\n",
            "Cost after iteration 800 : 0.30277333292507036\n",
            "Cost after iteration 900 : 0.2905589439034444\n",
            "Cost after iteration 1000 : 0.2799226634078987\n",
            "Cost after iteration 1100 : 0.27047781391406894\n",
            "Cost after iteration 1200 : 0.2619702233942548\n",
            "Cost after iteration 1300 : 0.2542257492543274\n",
            "Cost after iteration 1400 : 0.24711624409303332\n",
            "Cost after iteration 1500 : 0.2405370540938265\n",
            "Cost after iteration 1600 : 0.23439632675781055\n",
            "Cost after iteration 1700 : 0.22863311833309352\n",
            "Cost after iteration 1800 : 0.2232005227145666\n",
            "Cost after iteration 1900 : 0.21806795210787744\n",
            "Cost after iteration 2000 : 0.2131980648964704\n",
            "Cost after iteration 2100 : 0.2085723327495691\n",
            "Cost after iteration 2200 : 0.20417182478659407\n",
            "Cost after iteration 2300 : 0.19997729430046\n",
            "Cost after iteration 2400 : 0.19596403301000936\n",
            "Cost after iteration 2500 : 0.19211941751122602\n",
            "Cost after iteration 2600 : 0.18843118969617192\n",
            "Cost after iteration 2700 : 0.18488732215496861\n",
            "Cost after iteration 2800 : 0.1814892288860597\n",
            "Cost after iteration 2900 : 0.17822775077402173\n",
            "Cost after iteration 3000 : 0.17508884384769222\n",
            "Cost after iteration 3100 : 0.1720666908147636\n",
            "Cost after iteration 3200 : 0.16914762555626953\n",
            "Cost after iteration 3300 : 0.16632641073402335\n",
            "Cost after iteration 3400 : 0.1635970587894953\n",
            "Cost after iteration 3500 : 0.16096096092805304\n",
            "Cost after iteration 3600 : 0.15840923321505102\n",
            "Cost after iteration 3700 : 0.15593652474003644\n",
            "Cost after iteration 3800 : 0.1535416418840264\n",
            "Cost after iteration 3900 : 0.15122235105627452\n",
            "Cost after iteration 4000 : 0.14897554359062848\n",
            "Cost after iteration 4100 : 0.1467947726748716\n",
            "Cost after iteration 4200 : 0.1446784797394896\n",
            "Cost after iteration 4300 : 0.14262654817755405\n",
            "Cost after iteration 4400 : 0.14063525406902894\n",
            "Cost after iteration 4500 : 0.13869765838661355\n",
            "Cost after iteration 4600 : 0.13681242161540527\n",
            "Cost after iteration 4700 : 0.13498108060088188\n",
            "Cost after iteration 4800 : 0.13319674496119163\n",
            "Cost after iteration 4900 : 0.1314567601450552\n",
            "Cost after iteration 5000 : 0.12976009451852244\n",
            "Cost after iteration 5100 : 0.12810261598388495\n",
            "Cost after iteration 5200 : 0.12648422726707045\n",
            "Cost after iteration 5300 : 0.12490716521811175\n",
            "Cost after iteration 5400 : 0.12336739561224787\n",
            "Cost after iteration 5500 : 0.12186300701392837\n",
            "Cost after iteration 5600 : 0.12039223703942105\n",
            "Cost after iteration 5700 : 0.11895653198992105\n",
            "Cost after iteration 5800 : 0.11755256747360021\n",
            "Cost after iteration 5900 : 0.11617985991392123\n",
            "Cost after iteration 6000 : 0.11483764984770879\n",
            "Cost after iteration 6100 : 0.1135241315171811\n",
            "Cost after iteration 6200 : 0.11223846340673459\n",
            "Cost after iteration 6300 : 0.1109791699992839\n",
            "Cost after iteration 6400 : 0.10974599511359688\n",
            "Cost after iteration 6500 : 0.10853717757223419\n",
            "Cost after iteration 6600 : 0.1073513792583147\n",
            "Cost after iteration 6700 : 0.10618912039799194\n",
            "Cost after iteration 6800 : 0.10505000983140172\n",
            "Cost after iteration 6900 : 0.1039326785422058\n",
            "Cost after iteration 7000 : 0.10283181228569081\n",
            "Cost after iteration 7100 : 0.10175049105332058\n",
            "Cost after iteration 7200 : 0.1006910838990495\n",
            "Cost after iteration 7300 : 0.0996529296592309\n",
            "Cost after iteration 7400 : 0.09863339713147465\n",
            "Cost after iteration 7500 : 0.09763270105082714\n",
            "Cost after iteration 7600 : 0.0966493802459596\n",
            "Cost after iteration 7700 : 0.09568271231028067\n",
            "Cost after iteration 7800 : 0.09473204204985684\n",
            "Cost after iteration 7900 : 0.09379766436120214\n",
            "Cost after iteration 8000 : 0.09288013792211355\n",
            "Cost after iteration 8100 : 0.09197902341529651\n",
            "Cost after iteration 8200 : 0.09109277081939453\n",
            "Cost after iteration 8300 : 0.09022110132658233\n",
            "Cost after iteration 8400 : 0.08936347880097295\n",
            "Cost after iteration 8500 : 0.08852032656612516\n",
            "Cost after iteration 8600 : 0.08769030179828034\n",
            "Cost after iteration 8700 : 0.08687330488129417\n",
            "Cost after iteration 8800 : 0.08606978663530662\n",
            "Cost after iteration 8900 : 0.08527825150638403\n",
            "Cost after iteration 9000 : 0.08449833237527013\n",
            "Cost after iteration 9100 : 0.08373042684109376\n",
            "Cost after iteration 9200 : 0.08297443323778703\n",
            "Cost after iteration 9300 : 0.08222975656663133\n",
            "Cost after iteration 9400 : 0.08149700710966407\n",
            "Cost after iteration 9500 : 0.08077457251730447\n",
            "Cost after iteration 9600 : 0.08006235234591681\n",
            "Cost after iteration 9700 : 0.07936010844668605\n",
            "Cost after iteration 9800 : 0.07866743411977509\n",
            "Cost after iteration 9900 : 0.07798369924959497\n",
            "Cost after iteration 10000 : 0.07730864062363538\n"
          ]
        },
        {
          "data": {
            "image/png": "[encoded data removed]",
            "text/plain": [
              "<Figure size 640x480 with 1 Axes>"
            ]
          },
          "metadata": {},
          "output_type": "display_data"
        }
      ],
      "source": [
        "layer_dims = [784,228,228,10]\n",
        "parameters = L_layer_model(X_train,y_train,layer_dims,learning_rate=0.02,num_iterations=10001,print_cost=True, lambd =0.003)"
      ]
    },
    {
      "cell_type": "code",
      "execution_count": null,
      "metadata": {
        "id": "uSx6Z1VRqVBO"
      },
      "outputs": [],
      "source": []
    },
    {
      "cell_type": "code",
      "execution_count": null,
      "metadata": {
        "id": "cb1BXiBWCjFM"
      },
      "outputs": [],
      "source": [
        "def softmax(Z):\n",
        "\n",
        "  expZ = np.exp(Z - np.max(Z, axis=0, keepdims= True))\n",
        "\n",
        "  A = expZ / np.sum(expZ, axis=0, keepdims= True)\n",
        "\n",
        "\n",
        "\n",
        "  return A,Z\n",
        "\n",
        "\n",
        "def relu(Z):\n",
        "\n",
        "  A = np.maximum(0,Z)\n",
        "\n",
        "  return A,Z\n",
        "\n",
        "\n",
        "def sigmoid_backward(dA,cache):\n",
        "\n",
        "  Z = cache\n",
        "\n",
        "  s = 1/(1+np.exp(-Z))\n",
        "\n",
        "  dZ = dA * s * (1-s)\n",
        "\n",
        "  return dZ\n",
        "\n",
        "\n",
        "def relu_backward(dA,cache):\n",
        "\n",
        "  Z = cache\n",
        "\n",
        "  dZ = np.array(dA, copy = True)\n",
        "\n",
        "  dZ[Z <= 0] = 0\n",
        "\n",
        "  return dZ"
      ]
    },
    {
      "cell_type": "code",
      "execution_count": null,
      "metadata": {
        "collapsed": true,
        "id": "PVY5oftpxcaH"
      },
      "outputs": [],
      "source": [
        "def initialize_parameters_deep(layer_dims):\n",
        "\n",
        "  np.random.seed(3)\n",
        "\n",
        "  L = len(layer_dims)\n",
        "\n",
        "  parameters = {}\n",
        "\n",
        "  for l in range (1,L):\n",
        "\n",
        "    parameters['W' + str(l)] = np.random.randn(layer_dims[l],layer_dims[l-1]) * np.sqrt(2./layer_dims[l-1])\n",
        "\n",
        "    parameters['b' + str(l)] = np.zeros((layer_dims[l],1))\n",
        "\n",
        "\n",
        "  return parameters\n",
        "\n",
        "\n"
      ]
    },
    {
      "cell_type": "code",
      "execution_count": null,
      "metadata": {
        "id": "w3XSPxdexfT-"
      },
      "outputs": [],
      "source": [
        "def linear_forward(A_prev,W,b ):\n",
        "\n",
        "\n",
        "\n",
        "\n",
        "  Z = np.dot(W,A_prev) + b\n",
        "\n",
        "  cache = (A_prev, W, b)\n",
        "\n",
        "  return Z, cache\n",
        "\n",
        "\n",
        "def linear_activation_forward(A_prev,W,b,activation):\n",
        "\n",
        "  Z,linear_cache = linear_forward(A_prev,W,b)\n",
        "\n",
        "  if activation == \"relu\":\n",
        "    A,activation_cache = relu(Z)\n",
        "\n",
        "  elif activation == \"softmax\":\n",
        "    A,activation_cache = softmax(Z)\n",
        "\n",
        "  cache = (linear_cache,activation_cache)\n",
        "\n",
        "\n",
        "  return A,cache\n",
        "\n",
        "\n",
        "\n"
      ]
    },
    {
      "cell_type": "code",
      "execution_count": null,
      "metadata": {
        "id": "0rO0eiNpFUS9"
      },
      "outputs": [],
      "source": [
        "def L_model_forward(X,parameters):\n",
        "\n",
        "  caches = []\n",
        "\n",
        "  A = X\n",
        "\n",
        "  L = len(parameters) // 2 # Doubt\n",
        "\n",
        "\n",
        "  for l in range (1,L):\n",
        "    A_prev = A\n",
        "    A, cache = linear_activation_forward(A_prev,parameters['W' + str(l)],parameters['b' + str(l)],activation=\"relu\")\n",
        "\n",
        "    caches.append(cache)\n",
        "\n",
        "  AL,cache = linear_activation_forward(A,parameters['W' + str(L)],parameters['b' + str(L)],activation=\"softmax\")\n",
        "  caches.append(cache)\n",
        "\n",
        "  return AL,caches"
      ]
    },
    {
      "cell_type": "code",
      "execution_count": null,
      "metadata": {
        "id": "wi8tig7jbvmI",
        "outputId": "f0351e13-84bd-4442-c1e8-cb84c485dd5c"
      },
      "outputs": [
        {
          "ename": "NameError",
          "evalue": "name 'lambd' is not defined",
          "output_type": "error",
          "traceback": [
            "\u001b[31m---------------------------------------------------------------------------\u001b[39m",
            "\u001b[31mNameError\u001b[39m                                 Traceback (most recent call last)",
            "\u001b[36mCell\u001b[39m\u001b[36m \u001b[39m\u001b[32mIn[89]\u001b[39m\u001b[32m, line 1\u001b[39m\n\u001b[32m----> \u001b[39m\u001b[32m1\u001b[39m \u001b[38;5;28;01mdef\u001b[39;00m\u001b[38;5;250m \u001b[39m\u001b[34mcompute_cost\u001b[39m(AL,Y,parameters, lambd = \u001b[43mlambd\u001b[49m):\n\u001b[32m      3\u001b[39m   m = Y.shape[\u001b[32m1\u001b[39m]     \u001b[38;5;66;03m# why use X at some places and Y at others to get m? why not stick to just X?\u001b[39;00m\n\u001b[32m      5\u001b[39m   cost = (-\u001b[32m1\u001b[39m/m) * np.sum(Y * np.log(AL + \u001b[32m1e-8\u001b[39m))\n",
            "\u001b[31mNameError\u001b[39m: name 'lambd' is not defined"
          ]
        }
      ],
      "source": [
        "def compute_cost(AL,Y,parameters, lambd = 0):\n",
        "\n",
        "  m = Y.shape[1]     # why use X at some places and Y at others to get m? why not stick to just X?\n",
        "\n",
        "  cost = (-1/m) * np.sum(Y * np.log(AL + 1e-8))\n",
        "\n",
        "  L2_cost = 0\n",
        "\n",
        "  if lambd > 0:\n",
        "    for l in range(1,len(parameters)//2 + 1):\n",
        "        W = parameters['W' + str(l)]\n",
        "\n",
        "        L2_cost += np.sum(np.square(W))\n",
        "\n",
        "  L2_cost =(lambd / (2 * m)) * L2_cost\n",
        "\n",
        "  cost = cost + L2_cost\n",
        "\n",
        "  cost = np.squeeze(cost)\n",
        "\n",
        "  return cost\n",
        "\n",
        "\n",
        ""
      ]
    },
    {
      "cell_type": "code",
      "execution_count": null,
      "metadata": {
        "id": "BL7Ve3gaf4CO"
      },
      "outputs": [],
      "source": [
        "def linear_backward(dZ,cache,lambd = 0):\n",
        "\n",
        "\n",
        "  A_prev,W,b = cache\n",
        "\n",
        "  m = A_prev.shape[1]\n",
        "\n",
        "  dW = (1/m) * np.dot(dZ,A_prev.T) + (lambd / m) * W\n",
        "\n",
        "  db = (1/m) * np.sum(dZ, axis=1, keepdims=True)\n",
        "\n",
        "  dA_prev = np.dot(W.T,dZ)\n",
        "\n",
        "\n",
        "  return dA_prev,dW,db\n",
        "\n"
      ]
    },
    {
      "cell_type": "code",
      "execution_count": null,
      "metadata": {
        "id": "DXSQi-11nH4M"
      },
      "outputs": [],
      "source": [
        "def linear_activation_backward(dA, cache, activation, lambd = 0):\n",
        "\n",
        "  linear_cache,activation_cache = cache\n",
        "\n",
        "  if activation == \"relu\":\n",
        "\n",
        "    dZ = relu_backward(dA,activation_cache)\n",
        "\n",
        "  elif activation == \"softmax\":\n",
        "\n",
        "    dZ = dA\n",
        "\n",
        "  dA_prev,dW,db = linear_backward(dZ,linear_cache,lambd = lambd)\n",
        "\n",
        "  return dA_prev,dW,db\n",
        "\n"
      ]
    },
    {
      "cell_type": "code",
      "execution_count": null,
      "metadata": {
        "id": "zh4vs2-eH204"
      },
      "outputs": [],
      "source": [
        "def L_model_backward(AL, caches, Y, lambd=0):\n",
        "    grads = {}\n",
        "    L = len(caches)\n",
        "\n",
        "    # Output layer (softmax)\n",
        "    dZL = AL - Y\n",
        "    current_cache = caches[L-1]\n",
        "    grads[\"dA\" + str(L-1)], grads[\"dW\" + str(L)], grads[\"db\" + str(L)] = \\\n",
        "        linear_activation_backward(dZL, current_cache, \"softmax\", lambd=lambd)\n",
        "\n",
        "    # Hidden layers (ReLU)\n",
        "    for l in reversed(range(L-1)):\n",
        "        current_cache = caches[l]\n",
        "        dA_prev, dW, db = linear_activation_backward(\n",
        "            grads['dA' + str(l+1)], current_cache, \"relu\", lambd=lambd)\n",
        "        grads[\"dA\" + str(l)] = dA_prev\n",
        "        grads[\"dW\" + str(l+1)] = dW\n",
        "        grads[\"db\" + str(l+1)] = db\n",
        "\n",
        "    return grads\n"
      ]
    },
    {
      "cell_type": "code",
      "execution_count": null,
      "metadata": {
        "id": "5omcB92358tp"
      },
      "outputs": [],
      "source": [
        "def update_parameters(grads,learning_rate,parameters):\n",
        "\n",
        "  L = len(parameters) // 2\n",
        "\n",
        "  for l in range (1,L+1):\n",
        "\n",
        "    parameters[\"W\" + str(l)] -= learning_rate * grads[\"dW\" + str(l)]\n",
        "    parameters[\"b\" + str(l)] -= learning_rate * grads[\"db\" + str(l)]\n",
        "\n",
        "  return parameters"
      ]
    },
    {
      "cell_type": "code",
      "execution_count": null,
      "metadata": {
        "id": "Tbd7oDZp3q-b"
      },
      "outputs": [],
      "source": [
        "def L_layer_model(X,Y,layer_dims,learning_rate=0.009,num_iterations=20001,print_cost=False,lambd = 0):\n",
        "\n",
        "  np.random.seed(3)\n",
        "\n",
        "  costs = []\n",
        "\n",
        "  parameters = initialize_parameters_deep(layer_dims)\n",
        "\n",
        "  for i in range (0,num_iterations):\n",
        "\n",
        "    AL, caches = L_model_forward(X,parameters)\n",
        "\n",
        "    cost = compute_cost(AL,Y,parameters,lambd)\n",
        "\n",
        "    grads = L_model_backward(AL,caches,Y,lambd)\n",
        "\n",
        "    parameters = update_parameters(grads,learning_rate,parameters)\n",
        "\n",
        "\n",
        "    if print_cost and i % 100 == 0:\n",
        "      print(f\"Cost after iteration {i} : {cost}\")\n",
        "\n",
        "\n",
        "\n",
        "      costs.append(cost)\n",
        "  plt.plot(np.squeeze(costs))\n",
        "  plt.ylabel('Cost')\n",
        "  plt.xlabel('Iterations (per hundreds)')\n",
        "  plt.title(\"Learning rate = \" + str(learning_rate))\n",
        "  plt.show()\n",
        "  return parameters"
      ]
    },
    {
      "cell_type": "code",
      "execution_count": null,
      "metadata": {
        "id": "408QGljzIv64"
      },
      "outputs": [],
      "source": [
        "def predict(X, y, parameters):\n",
        "    AL, _ = L_model_forward(X, parameters)\n",
        "    predictions = np.argmax(AL, axis=0)\n",
        "    labels = np.argmax(y, axis=0)\n",
        "    accuracy = np.mean(predictions == labels)\n",
        "    print(f\"Accuracy: {accuracy * 100:.2f}%\")\n",
        "    return predictions,accuracy\n"
      ]
    },
    {
      "cell_type": "code",
      "execution_count": null,
      "metadata": {
        "colab": {
          "base_uri": "https://localhost:8080/"
        },
        "id": "WfLSb-5lJAog",
        "outputId": "fc7a6849-f689-43a8-ad4e-ced99e1548dd"
      },
      "outputs": [
        {
          "name": "stdout",
          "output_type": "stream",
          "text": [
            "Accuracy: 97.94%\n",
            "Accuracy: 97.04%\n",
            "✅ Train accuracy: 97.94 %\n",
            "🧪 Test accuracy: 97.04 %\n"
          ]
        }
      ],
      "source": [
        "train_pred, train_acc = predict(X_train, y_train, parameters)\n",
        "test_pred, test_acc = predict(X_test, y_test, parameters)\n",
        "\n",
        "print(\"✅ Train accuracy:\", round(train_acc * 100, 2), \"%\")\n",
        "print(\"🧪 Test accuracy:\", round(test_acc * 100, 2), \"%\")\n",
        "\n"
      ]
    },
    {
      "cell_type": "code",
      "execution_count": null,
      "metadata": {
        "id": "X9TTmMul8diA"
      },
      "outputs": [],
      "source": [
        "\n"
      ]
    },
    {
      "cell_type": "code",
      "execution_count": null,
      "metadata": {
        "id": "1w38P6qvC7ni"
      },
      "outputs": [],
      "source": [
        "\n"
      ]
    },
    {
      "cell_type": "code",
      "execution_count": null,
      "metadata": {
        "id": "bGNASpnCmeIg"
      },
      "outputs": [],
      "source": [
        "\n",
        "\n"
      ]
    }
  ],
  "metadata": {
    "accelerator": "GPU",
    "colab": {
      "gpuType": "T4",
      "provenance": []
    },
    "kernelspec": {
      "display_name": "my_venv",
      "language": "python",
      "name": "python3"
    },
    "language_info": {
      "codemirror_mode": {
        "name": "ipython",
        "version": 3
      },
      "file_extension": ".py",
      "mimetype": "text/x-python",
      "name": "python",
      "nbconvert_exporter": "python",
      "pygments_lexer": "ipython3",
      "version": "3.11.1 (tags/v3.11.1:a7a450f, Dec  6 2022, 19:58:39) [MSC v.1934 64 bit (AMD64)]"
    },
    "vscode": {
      "interpreter": {
        "hash": "f8cd5b3f4cebe4d6108adec99dfbd895eb15bc74d502f0e1a55fffb66bf894b3"
      }
    }
  },
  "nbformat": 4,
  "nbformat_minor": 0
}